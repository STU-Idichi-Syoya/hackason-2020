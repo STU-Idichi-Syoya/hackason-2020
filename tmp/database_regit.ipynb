{
 "metadata": {
  "language_info": {
   "codemirror_mode": {
    "name": "ipython",
    "version": 3
   },
   "file_extension": ".py",
   "mimetype": "text/x-python",
   "name": "python",
   "nbconvert_exporter": "python",
   "pygments_lexer": "ipython3",
   "version": "3.8.3-final"
  },
  "orig_nbformat": 2,
  "kernelspec": {
   "name": "Python 3.8.3 64-bit ('KITT': virtualenv)",
   "display_name": "Python 3.8.3 64-bit ('KITT': virtualenv)",
   "metadata": {
    "interpreter": {
     "hash": "0e9bf59e6747b13c2362884a7519e31bb49b96b9a8c07a2a072801edde6a73e2"
    }
   }
  }
 },
 "nbformat": 4,
 "nbformat_minor": 2,
 "cells": [
  {
   "cell_type": "code",
   "execution_count": 44,
   "metadata": {},
   "outputs": [],
   "source": [
    "import pandas\n",
    "df=pandas.read_csv(\"zenkoku.csv\",encoding=\"cp932\")"
   ]
  },
  {
   "cell_type": "code",
   "execution_count": 45,
   "metadata": {},
   "outputs": [
    {
     "output_type": "execute_result",
     "data": {
      "text/plain": [
       "       住所CD  都道府県CD  市区町村CD      町域CD      郵便番号  事業所フラグ  廃止フラグ 都道府県  都道府県カナ  \\\n",
       "0  60000000       1    1101  11010000  060-0000       0      0  北海道  ホッカイドウ   \n",
       "1  60850400       1    1101  11010000  060-8504       1      0  北海道  ホッカイドウ   \n",
       "2  60872100       1    1101  11010000  060-8721       1      0  北海道  ホッカイドウ   \n",
       "3  60860200       1    1101  11010000  060-8602       1      0  北海道  ホッカイドウ   \n",
       "4  60840600       1    1101  11010000  060-8406       1      0  北海道  ホッカイドウ   \n",
       "\n",
       "     市区町村  ... 町域カナ    町域補足 京都通り名  字丁目 字丁目カナ   補足              事業所名  \\\n",
       "0  札幌市中央区  ...    　  （該当なし）   NaN  NaN   NaN  NaN               NaN   \n",
       "1  札幌市中央区  ...    　  （該当なし）   NaN  NaN   NaN  NaN    富士通　株式会社　北海道支社   \n",
       "2  札幌市中央区  ...    　  （該当なし）   NaN  NaN   NaN  NaN   大丸　株式会社　紙包材営業本部   \n",
       "3  札幌市中央区  ...    　  （該当なし）   NaN  NaN   NaN  NaN  株式会社　朝日新聞社　北海道支社   \n",
       "4  札幌市中央区  ...    　  （該当なし）   NaN  NaN   NaN  NaN     北海道テレビ放送　株式会社   \n",
       "\n",
       "                         事業所名カナ                   事業所住所 新住所CD  \n",
       "0                           NaN                     NaN   NaN  \n",
       "1       フジツウ　カブシキガイシヤ　ホツカイドウシシヤ  北２条西４丁目１番地札幌三井ＪＰビルディング   NaN  \n",
       "2  ダイマル　カブシキガイシヤ　カミホウザイエイギヨウホンブ              北３条西１４丁目２番   NaN  \n",
       "3  カブシキカイシヤ　アサヒシンブンシヤ　ホツカイドウシシヤ  北１条西１丁目６番地さっぽろ創生スクエア９階   NaN  \n",
       "4        ホツカイドウテレビホウソウ　カブシキカイシヤ              北１条西１丁目６番地   NaN  \n",
       "\n",
       "[5 rows x 22 columns]"
      ],
      "text/html": "<div>\n<style scoped>\n    .dataframe tbody tr th:only-of-type {\n        vertical-align: middle;\n    }\n\n    .dataframe tbody tr th {\n        vertical-align: top;\n    }\n\n    .dataframe thead th {\n        text-align: right;\n    }\n</style>\n<table border=\"1\" class=\"dataframe\">\n  <thead>\n    <tr style=\"text-align: right;\">\n      <th></th>\n      <th>住所CD</th>\n      <th>都道府県CD</th>\n      <th>市区町村CD</th>\n      <th>町域CD</th>\n      <th>郵便番号</th>\n      <th>事業所フラグ</th>\n      <th>廃止フラグ</th>\n      <th>都道府県</th>\n      <th>都道府県カナ</th>\n      <th>市区町村</th>\n      <th>...</th>\n      <th>町域カナ</th>\n      <th>町域補足</th>\n      <th>京都通り名</th>\n      <th>字丁目</th>\n      <th>字丁目カナ</th>\n      <th>補足</th>\n      <th>事業所名</th>\n      <th>事業所名カナ</th>\n      <th>事業所住所</th>\n      <th>新住所CD</th>\n    </tr>\n  </thead>\n  <tbody>\n    <tr>\n      <th>0</th>\n      <td>60000000</td>\n      <td>1</td>\n      <td>1101</td>\n      <td>11010000</td>\n      <td>060-0000</td>\n      <td>0</td>\n      <td>0</td>\n      <td>北海道</td>\n      <td>ホッカイドウ</td>\n      <td>札幌市中央区</td>\n      <td>...</td>\n      <td></td>\n      <td>（該当なし）</td>\n      <td>NaN</td>\n      <td>NaN</td>\n      <td>NaN</td>\n      <td>NaN</td>\n      <td>NaN</td>\n      <td>NaN</td>\n      <td>NaN</td>\n      <td>NaN</td>\n    </tr>\n    <tr>\n      <th>1</th>\n      <td>60850400</td>\n      <td>1</td>\n      <td>1101</td>\n      <td>11010000</td>\n      <td>060-8504</td>\n      <td>1</td>\n      <td>0</td>\n      <td>北海道</td>\n      <td>ホッカイドウ</td>\n      <td>札幌市中央区</td>\n      <td>...</td>\n      <td></td>\n      <td>（該当なし）</td>\n      <td>NaN</td>\n      <td>NaN</td>\n      <td>NaN</td>\n      <td>NaN</td>\n      <td>富士通　株式会社　北海道支社</td>\n      <td>フジツウ　カブシキガイシヤ　ホツカイドウシシヤ</td>\n      <td>北２条西４丁目１番地札幌三井ＪＰビルディング</td>\n      <td>NaN</td>\n    </tr>\n    <tr>\n      <th>2</th>\n      <td>60872100</td>\n      <td>1</td>\n      <td>1101</td>\n      <td>11010000</td>\n      <td>060-8721</td>\n      <td>1</td>\n      <td>0</td>\n      <td>北海道</td>\n      <td>ホッカイドウ</td>\n      <td>札幌市中央区</td>\n      <td>...</td>\n      <td></td>\n      <td>（該当なし）</td>\n      <td>NaN</td>\n      <td>NaN</td>\n      <td>NaN</td>\n      <td>NaN</td>\n      <td>大丸　株式会社　紙包材営業本部</td>\n      <td>ダイマル　カブシキガイシヤ　カミホウザイエイギヨウホンブ</td>\n      <td>北３条西１４丁目２番</td>\n      <td>NaN</td>\n    </tr>\n    <tr>\n      <th>3</th>\n      <td>60860200</td>\n      <td>1</td>\n      <td>1101</td>\n      <td>11010000</td>\n      <td>060-8602</td>\n      <td>1</td>\n      <td>0</td>\n      <td>北海道</td>\n      <td>ホッカイドウ</td>\n      <td>札幌市中央区</td>\n      <td>...</td>\n      <td></td>\n      <td>（該当なし）</td>\n      <td>NaN</td>\n      <td>NaN</td>\n      <td>NaN</td>\n      <td>NaN</td>\n      <td>株式会社　朝日新聞社　北海道支社</td>\n      <td>カブシキカイシヤ　アサヒシンブンシヤ　ホツカイドウシシヤ</td>\n      <td>北１条西１丁目６番地さっぽろ創生スクエア９階</td>\n      <td>NaN</td>\n    </tr>\n    <tr>\n      <th>4</th>\n      <td>60840600</td>\n      <td>1</td>\n      <td>1101</td>\n      <td>11010000</td>\n      <td>060-8406</td>\n      <td>1</td>\n      <td>0</td>\n      <td>北海道</td>\n      <td>ホッカイドウ</td>\n      <td>札幌市中央区</td>\n      <td>...</td>\n      <td></td>\n      <td>（該当なし）</td>\n      <td>NaN</td>\n      <td>NaN</td>\n      <td>NaN</td>\n      <td>NaN</td>\n      <td>北海道テレビ放送　株式会社</td>\n      <td>ホツカイドウテレビホウソウ　カブシキカイシヤ</td>\n      <td>北１条西１丁目６番地</td>\n      <td>NaN</td>\n    </tr>\n  </tbody>\n</table>\n<p>5 rows × 22 columns</p>\n</div>"
     },
     "metadata": {},
     "execution_count": 45
    }
   ],
   "source": [
    "df.head()"
   ]
  },
  {
   "cell_type": "code",
   "execution_count": 46,
   "metadata": {},
   "outputs": [],
   "source": [
    "df.dropna(subset=[\"事業所住所\"],inplace=True)"
   ]
  },
  {
   "cell_type": "code",
   "execution_count": 47,
   "metadata": {},
   "outputs": [
    {
     "output_type": "execute_result",
     "data": {
      "text/plain": [
       "             住所CD  都道府県CD  市区町村CD       町域CD      郵便番号  事業所フラグ  廃止フラグ 都道府県  \\\n",
       "149668  901049600      47   47362  473620015  901-0496       1      0  沖縄県   \n",
       "149673  901049300      47   47362  473620019  901-0493       1      0  沖縄県   \n",
       "149681  906069200      47   47375  473750002  906-0692       1      0  沖縄県   \n",
       "149689  907129200      47   47381  473810005  907-1292       1      0  沖縄県   \n",
       "149700  907189200      47   47382  473820001  907-1892       1      0  沖縄県   \n",
       "\n",
       "        都道府県カナ      市区町村  ...  町域カナ 町域補足 京都通り名  字丁目 字丁目カナ   補足  \\\n",
       "149668  オキナワケン   島尻郡八重瀬町  ...   トモリ  NaN   NaN  NaN   NaN  NaN   \n",
       "149673  オキナワケン   島尻郡八重瀬町  ...   ホカマ  NaN   NaN  NaN   NaN  NaN   \n",
       "149681  オキナワケン   宮古郡多良間村  ...  ナカスジ  NaN   NaN  NaN   NaN  NaN   \n",
       "149689  オキナワケン   八重山郡竹富町  ...   コハマ  NaN   NaN  NaN   NaN  NaN   \n",
       "149700  オキナワケン  八重山郡与那国町  ...  ヨナグニ  NaN   NaN  NaN   NaN  NaN   \n",
       "\n",
       "                        事業所名                                    事業所名カナ  \\\n",
       "149668           陸上自衛隊　与座分屯地                        リクジヨウジエイタイ　ヨザブントンチ   \n",
       "149673  特定医療法人　沖縄徳洲会　南部徳洲会病院  トクテイイリヨウホウジン　オキナワトクシユウカイ　ナンブトクシユウカイビヨウイン   \n",
       "149681                多良間村役場                                  タラマソンヤクバ   \n",
       "149689           株式会社　はいむるぶし                           カブシキガイシヤ　ハイムルブシ   \n",
       "149700                与那国町役場                                ヨナグニチヨウヤクバ   \n",
       "\n",
       "         事業所住所 新住所CD  \n",
       "149668  富盛２６０８   NaN  \n",
       "149673    外間８０   NaN  \n",
       "149681  仲筋９９－２   NaN  \n",
       "149689  小浜２９３０   NaN  \n",
       "149700  与那国１２９   NaN  \n",
       "\n",
       "[5 rows x 22 columns]"
      ],
      "text/html": "<div>\n<style scoped>\n    .dataframe tbody tr th:only-of-type {\n        vertical-align: middle;\n    }\n\n    .dataframe tbody tr th {\n        vertical-align: top;\n    }\n\n    .dataframe thead th {\n        text-align: right;\n    }\n</style>\n<table border=\"1\" class=\"dataframe\">\n  <thead>\n    <tr style=\"text-align: right;\">\n      <th></th>\n      <th>住所CD</th>\n      <th>都道府県CD</th>\n      <th>市区町村CD</th>\n      <th>町域CD</th>\n      <th>郵便番号</th>\n      <th>事業所フラグ</th>\n      <th>廃止フラグ</th>\n      <th>都道府県</th>\n      <th>都道府県カナ</th>\n      <th>市区町村</th>\n      <th>...</th>\n      <th>町域カナ</th>\n      <th>町域補足</th>\n      <th>京都通り名</th>\n      <th>字丁目</th>\n      <th>字丁目カナ</th>\n      <th>補足</th>\n      <th>事業所名</th>\n      <th>事業所名カナ</th>\n      <th>事業所住所</th>\n      <th>新住所CD</th>\n    </tr>\n  </thead>\n  <tbody>\n    <tr>\n      <th>149668</th>\n      <td>901049600</td>\n      <td>47</td>\n      <td>47362</td>\n      <td>473620015</td>\n      <td>901-0496</td>\n      <td>1</td>\n      <td>0</td>\n      <td>沖縄県</td>\n      <td>オキナワケン</td>\n      <td>島尻郡八重瀬町</td>\n      <td>...</td>\n      <td>トモリ</td>\n      <td>NaN</td>\n      <td>NaN</td>\n      <td>NaN</td>\n      <td>NaN</td>\n      <td>NaN</td>\n      <td>陸上自衛隊　与座分屯地</td>\n      <td>リクジヨウジエイタイ　ヨザブントンチ</td>\n      <td>富盛２６０８</td>\n      <td>NaN</td>\n    </tr>\n    <tr>\n      <th>149673</th>\n      <td>901049300</td>\n      <td>47</td>\n      <td>47362</td>\n      <td>473620019</td>\n      <td>901-0493</td>\n      <td>1</td>\n      <td>0</td>\n      <td>沖縄県</td>\n      <td>オキナワケン</td>\n      <td>島尻郡八重瀬町</td>\n      <td>...</td>\n      <td>ホカマ</td>\n      <td>NaN</td>\n      <td>NaN</td>\n      <td>NaN</td>\n      <td>NaN</td>\n      <td>NaN</td>\n      <td>特定医療法人　沖縄徳洲会　南部徳洲会病院</td>\n      <td>トクテイイリヨウホウジン　オキナワトクシユウカイ　ナンブトクシユウカイビヨウイン</td>\n      <td>外間８０</td>\n      <td>NaN</td>\n    </tr>\n    <tr>\n      <th>149681</th>\n      <td>906069200</td>\n      <td>47</td>\n      <td>47375</td>\n      <td>473750002</td>\n      <td>906-0692</td>\n      <td>1</td>\n      <td>0</td>\n      <td>沖縄県</td>\n      <td>オキナワケン</td>\n      <td>宮古郡多良間村</td>\n      <td>...</td>\n      <td>ナカスジ</td>\n      <td>NaN</td>\n      <td>NaN</td>\n      <td>NaN</td>\n      <td>NaN</td>\n      <td>NaN</td>\n      <td>多良間村役場</td>\n      <td>タラマソンヤクバ</td>\n      <td>仲筋９９－２</td>\n      <td>NaN</td>\n    </tr>\n    <tr>\n      <th>149689</th>\n      <td>907129200</td>\n      <td>47</td>\n      <td>47381</td>\n      <td>473810005</td>\n      <td>907-1292</td>\n      <td>1</td>\n      <td>0</td>\n      <td>沖縄県</td>\n      <td>オキナワケン</td>\n      <td>八重山郡竹富町</td>\n      <td>...</td>\n      <td>コハマ</td>\n      <td>NaN</td>\n      <td>NaN</td>\n      <td>NaN</td>\n      <td>NaN</td>\n      <td>NaN</td>\n      <td>株式会社　はいむるぶし</td>\n      <td>カブシキガイシヤ　ハイムルブシ</td>\n      <td>小浜２９３０</td>\n      <td>NaN</td>\n    </tr>\n    <tr>\n      <th>149700</th>\n      <td>907189200</td>\n      <td>47</td>\n      <td>47382</td>\n      <td>473820001</td>\n      <td>907-1892</td>\n      <td>1</td>\n      <td>0</td>\n      <td>沖縄県</td>\n      <td>オキナワケン</td>\n      <td>八重山郡与那国町</td>\n      <td>...</td>\n      <td>ヨナグニ</td>\n      <td>NaN</td>\n      <td>NaN</td>\n      <td>NaN</td>\n      <td>NaN</td>\n      <td>NaN</td>\n      <td>与那国町役場</td>\n      <td>ヨナグニチヨウヤクバ</td>\n      <td>与那国１２９</td>\n      <td>NaN</td>\n    </tr>\n  </tbody>\n</table>\n<p>5 rows × 22 columns</p>\n</div>"
     },
     "metadata": {},
     "execution_count": 47
    }
   ],
   "source": [
    "df.tail()"
   ]
  },
  {
   "cell_type": "code",
   "execution_count": 48,
   "metadata": {},
   "outputs": [],
   "source": [
    "dropidx=df.index[(df[\"廃止フラグ\"]==1)]"
   ]
  },
  {
   "cell_type": "code",
   "execution_count": 49,
   "metadata": {},
   "outputs": [],
   "source": [
    "df.drop(dropidx,inplace=True)"
   ]
  },
  {
   "cell_type": "code",
   "execution_count": 50,
   "metadata": {},
   "outputs": [
    {
     "output_type": "execute_result",
     "data": {
      "text/plain": [
       "       住所CD  都道府県CD  市区町村CD      町域CD      郵便番号  事業所フラグ  廃止フラグ 都道府県  都道府県カナ  \\\n",
       "1  60850400       1    1101  11010000  060-8504       1      0  北海道  ホッカイドウ   \n",
       "2  60872100       1    1101  11010000  060-8721       1      0  北海道  ホッカイドウ   \n",
       "3  60860200       1    1101  11010000  060-8602       1      0  北海道  ホッカイドウ   \n",
       "4  60840600       1    1101  11010000  060-8406       1      0  北海道  ホッカイドウ   \n",
       "5  60855200       1    1101  11010000  060-8552       1      0  北海道  ホッカイドウ   \n",
       "\n",
       "     市区町村  ... 町域カナ    町域補足 京都通り名  字丁目 字丁目カナ   補足               事業所名  \\\n",
       "1  札幌市中央区  ...    　  （該当なし）   NaN  NaN   NaN  NaN     富士通　株式会社　北海道支社   \n",
       "2  札幌市中央区  ...    　  （該当なし）   NaN  NaN   NaN  NaN    大丸　株式会社　紙包材営業本部   \n",
       "3  札幌市中央区  ...    　  （該当なし）   NaN  NaN   NaN  NaN   株式会社　朝日新聞社　北海道支社   \n",
       "4  札幌市中央区  ...    　  （該当なし）   NaN  NaN   NaN  NaN      北海道テレビ放送　株式会社   \n",
       "5  札幌市中央区  ...    　  （該当なし）   NaN  NaN   NaN  NaN  損害保険ジャパン日本興亜　株式会社   \n",
       "\n",
       "                         事業所名カナ                     事業所住所 新住所CD  \n",
       "1       フジツウ　カブシキガイシヤ　ホツカイドウシシヤ    北２条西４丁目１番地札幌三井ＪＰビルディング   NaN  \n",
       "2  ダイマル　カブシキガイシヤ　カミホウザイエイギヨウホンブ                北３条西１４丁目２番   NaN  \n",
       "3  カブシキカイシヤ　アサヒシンブンシヤ　ホツカイドウシシヤ    北１条西１丁目６番地さっぽろ創生スクエア９階   NaN  \n",
       "4        ホツカイドウテレビホウソウ　カブシキカイシヤ                北１条西１丁目６番地   NaN  \n",
       "5   ソンガイホケンジヤパンニツポンコウア　カブシキガイシヤ  北１条西６丁目２番地損保ジャパン日本興亜札幌ビル   NaN  \n",
       "\n",
       "[5 rows x 22 columns]"
      ],
      "text/html": "<div>\n<style scoped>\n    .dataframe tbody tr th:only-of-type {\n        vertical-align: middle;\n    }\n\n    .dataframe tbody tr th {\n        vertical-align: top;\n    }\n\n    .dataframe thead th {\n        text-align: right;\n    }\n</style>\n<table border=\"1\" class=\"dataframe\">\n  <thead>\n    <tr style=\"text-align: right;\">\n      <th></th>\n      <th>住所CD</th>\n      <th>都道府県CD</th>\n      <th>市区町村CD</th>\n      <th>町域CD</th>\n      <th>郵便番号</th>\n      <th>事業所フラグ</th>\n      <th>廃止フラグ</th>\n      <th>都道府県</th>\n      <th>都道府県カナ</th>\n      <th>市区町村</th>\n      <th>...</th>\n      <th>町域カナ</th>\n      <th>町域補足</th>\n      <th>京都通り名</th>\n      <th>字丁目</th>\n      <th>字丁目カナ</th>\n      <th>補足</th>\n      <th>事業所名</th>\n      <th>事業所名カナ</th>\n      <th>事業所住所</th>\n      <th>新住所CD</th>\n    </tr>\n  </thead>\n  <tbody>\n    <tr>\n      <th>1</th>\n      <td>60850400</td>\n      <td>1</td>\n      <td>1101</td>\n      <td>11010000</td>\n      <td>060-8504</td>\n      <td>1</td>\n      <td>0</td>\n      <td>北海道</td>\n      <td>ホッカイドウ</td>\n      <td>札幌市中央区</td>\n      <td>...</td>\n      <td></td>\n      <td>（該当なし）</td>\n      <td>NaN</td>\n      <td>NaN</td>\n      <td>NaN</td>\n      <td>NaN</td>\n      <td>富士通　株式会社　北海道支社</td>\n      <td>フジツウ　カブシキガイシヤ　ホツカイドウシシヤ</td>\n      <td>北２条西４丁目１番地札幌三井ＪＰビルディング</td>\n      <td>NaN</td>\n    </tr>\n    <tr>\n      <th>2</th>\n      <td>60872100</td>\n      <td>1</td>\n      <td>1101</td>\n      <td>11010000</td>\n      <td>060-8721</td>\n      <td>1</td>\n      <td>0</td>\n      <td>北海道</td>\n      <td>ホッカイドウ</td>\n      <td>札幌市中央区</td>\n      <td>...</td>\n      <td></td>\n      <td>（該当なし）</td>\n      <td>NaN</td>\n      <td>NaN</td>\n      <td>NaN</td>\n      <td>NaN</td>\n      <td>大丸　株式会社　紙包材営業本部</td>\n      <td>ダイマル　カブシキガイシヤ　カミホウザイエイギヨウホンブ</td>\n      <td>北３条西１４丁目２番</td>\n      <td>NaN</td>\n    </tr>\n    <tr>\n      <th>3</th>\n      <td>60860200</td>\n      <td>1</td>\n      <td>1101</td>\n      <td>11010000</td>\n      <td>060-8602</td>\n      <td>1</td>\n      <td>0</td>\n      <td>北海道</td>\n      <td>ホッカイドウ</td>\n      <td>札幌市中央区</td>\n      <td>...</td>\n      <td></td>\n      <td>（該当なし）</td>\n      <td>NaN</td>\n      <td>NaN</td>\n      <td>NaN</td>\n      <td>NaN</td>\n      <td>株式会社　朝日新聞社　北海道支社</td>\n      <td>カブシキカイシヤ　アサヒシンブンシヤ　ホツカイドウシシヤ</td>\n      <td>北１条西１丁目６番地さっぽろ創生スクエア９階</td>\n      <td>NaN</td>\n    </tr>\n    <tr>\n      <th>4</th>\n      <td>60840600</td>\n      <td>1</td>\n      <td>1101</td>\n      <td>11010000</td>\n      <td>060-8406</td>\n      <td>1</td>\n      <td>0</td>\n      <td>北海道</td>\n      <td>ホッカイドウ</td>\n      <td>札幌市中央区</td>\n      <td>...</td>\n      <td></td>\n      <td>（該当なし）</td>\n      <td>NaN</td>\n      <td>NaN</td>\n      <td>NaN</td>\n      <td>NaN</td>\n      <td>北海道テレビ放送　株式会社</td>\n      <td>ホツカイドウテレビホウソウ　カブシキカイシヤ</td>\n      <td>北１条西１丁目６番地</td>\n      <td>NaN</td>\n    </tr>\n    <tr>\n      <th>5</th>\n      <td>60855200</td>\n      <td>1</td>\n      <td>1101</td>\n      <td>11010000</td>\n      <td>060-8552</td>\n      <td>1</td>\n      <td>0</td>\n      <td>北海道</td>\n      <td>ホッカイドウ</td>\n      <td>札幌市中央区</td>\n      <td>...</td>\n      <td></td>\n      <td>（該当なし）</td>\n      <td>NaN</td>\n      <td>NaN</td>\n      <td>NaN</td>\n      <td>NaN</td>\n      <td>損害保険ジャパン日本興亜　株式会社</td>\n      <td>ソンガイホケンジヤパンニツポンコウア　カブシキガイシヤ</td>\n      <td>北１条西６丁目２番地損保ジャパン日本興亜札幌ビル</td>\n      <td>NaN</td>\n    </tr>\n  </tbody>\n</table>\n<p>5 rows × 22 columns</p>\n</div>"
     },
     "metadata": {},
     "execution_count": 50
    }
   ],
   "source": [
    "df.head()"
   ]
  },
  {
   "cell_type": "code",
   "execution_count": 51,
   "metadata": {},
   "outputs": [],
   "source": [
    "addr=df[\"都道府県\"].str.cat(df[\"事業所住所\"])"
   ]
  },
  {
   "cell_type": "code",
   "execution_count": 52,
   "metadata": {},
   "outputs": [
    {
     "output_type": "execute_result",
     "data": {
      "text/plain": [
       "1      北海道北２条西４丁目１番地札幌三井ＪＰビルディング\n",
       "2                  北海道北３条西１４丁目２番\n",
       "3      北海道北１条西１丁目６番地さっぽろ創生スクエア９階\n",
       "4                  北海道北１条西１丁目６番地\n",
       "5    北海道北１条西６丁目２番地損保ジャパン日本興亜札幌ビル\n",
       "Name: 都道府県, dtype: object"
      ]
     },
     "metadata": {},
     "execution_count": 52
    }
   ],
   "source": [
    "addr.head()"
   ]
  },
  {
   "cell_type": "code",
   "execution_count": 53,
   "metadata": {},
   "outputs": [],
   "source": [
    "df[\"full住所\"]=addr"
   ]
  },
  {
   "cell_type": "code",
   "execution_count": 54,
   "metadata": {},
   "outputs": [],
   "source": [
    "newdf=df[[\"full住所\",\"事業所名\"]]"
   ]
  },
  {
   "cell_type": "code",
   "execution_count": 55,
   "metadata": {},
   "outputs": [
    {
     "output_type": "execute_result",
     "data": {
      "text/plain": [
       "                        full住所               事業所名\n",
       "1    北海道北２条西４丁目１番地札幌三井ＪＰビルディング     富士通　株式会社　北海道支社\n",
       "2                北海道北３条西１４丁目２番    大丸　株式会社　紙包材営業本部\n",
       "3    北海道北１条西１丁目６番地さっぽろ創生スクエア９階   株式会社　朝日新聞社　北海道支社\n",
       "4                北海道北１条西１丁目６番地      北海道テレビ放送　株式会社\n",
       "5  北海道北１条西６丁目２番地損保ジャパン日本興亜札幌ビル  損害保険ジャパン日本興亜　株式会社"
      ],
      "text/html": "<div>\n<style scoped>\n    .dataframe tbody tr th:only-of-type {\n        vertical-align: middle;\n    }\n\n    .dataframe tbody tr th {\n        vertical-align: top;\n    }\n\n    .dataframe thead th {\n        text-align: right;\n    }\n</style>\n<table border=\"1\" class=\"dataframe\">\n  <thead>\n    <tr style=\"text-align: right;\">\n      <th></th>\n      <th>full住所</th>\n      <th>事業所名</th>\n    </tr>\n  </thead>\n  <tbody>\n    <tr>\n      <th>1</th>\n      <td>北海道北２条西４丁目１番地札幌三井ＪＰビルディング</td>\n      <td>富士通　株式会社　北海道支社</td>\n    </tr>\n    <tr>\n      <th>2</th>\n      <td>北海道北３条西１４丁目２番</td>\n      <td>大丸　株式会社　紙包材営業本部</td>\n    </tr>\n    <tr>\n      <th>3</th>\n      <td>北海道北１条西１丁目６番地さっぽろ創生スクエア９階</td>\n      <td>株式会社　朝日新聞社　北海道支社</td>\n    </tr>\n    <tr>\n      <th>4</th>\n      <td>北海道北１条西１丁目６番地</td>\n      <td>北海道テレビ放送　株式会社</td>\n    </tr>\n    <tr>\n      <th>5</th>\n      <td>北海道北１条西６丁目２番地損保ジャパン日本興亜札幌ビル</td>\n      <td>損害保険ジャパン日本興亜　株式会社</td>\n    </tr>\n  </tbody>\n</table>\n</div>"
     },
     "metadata": {},
     "execution_count": 55
    }
   ],
   "source": [
    "newdf.head()"
   ]
  },
  {
   "cell_type": "code",
   "execution_count": 56,
   "metadata": {},
   "outputs": [],
   "source": [
    "import requests\n",
    "from bs4 import BeautifulSoup\n",
    "import time\n",
    "from tqdm import tqdm\n",
    "def get_lat_lon_from_address(address_l):\n",
    "    \"\"\"\n",
    "    address_lにlistの形で住所を入れてあげると、latlonsという入れ子上のリストで緯度経度のリストを返す関数。\n",
    "    >>>>get_lat_lon_from_address(['東京都文京区本郷7-3-1','東京都文京区湯島３丁目３０−１'])\n",
    "    [['35.712056', '139.762775'], ['35.707771', '139.768205']]\n",
    "    \"\"\"\n",
    "    url = 'http://www.geocoding.jp/api/'\n",
    "    latlons = []\n",
    "    for address in tqdm(address_l):\n",
    "        payload = {\"v\": 1.1, 'q': address}\n",
    "        r = requests.get(url, params=payload)\n",
    "        ret = BeautifulSoup(r.content,'lxml')\n",
    "        if ret.find('error'):\n",
    "            raise ValueError(f\"Invalid address submitted. {address}\")\n",
    "        else:\n",
    "            try:\n",
    "                lat = ret.find('lat').string\n",
    "                lon = ret.find('lng').string\n",
    "                time.sleep(0.5)\n",
    "            except:\n",
    "                lat=lon=None\n",
    "            finally:\n",
    "                latlons.append([lat,lon])\n",
    "    return latlons\n",
    "import urllib\n",
    "import urllib.request\n",
    "from xml.etree.ElementTree import parse\n",
    "\n",
    "def adr2geo(adr):\n",
    "    api = \"http://www.geocoding.jp/api/?v=1.1&q=%s\" % (urllib.parse.quote(adr.encode('utf-8')))\n",
    "    xml = parse(urllib.request.urlopen(api)).getroot()\n",
    "\n",
    "    lat = xml.find('coordinate/lat').text\n",
    "    lng = xml.find('coordinate/lng').text\n",
    "    return (float(lat), float(lng))\n"
   ]
  },
  {
   "cell_type": "code",
   "execution_count": 57,
   "metadata": {},
   "outputs": [
    {
     "output_type": "stream",
     "name": "stderr",
     "text": [
      "100%|██████████| 1/1 [00:00<00:00, 25.00it/s]\n"
     ]
    },
    {
     "output_type": "execute_result",
     "data": {
      "text/plain": [
       "[[None, None]]"
      ]
     },
     "metadata": {},
     "execution_count": 57
    }
   ],
   "source": [
    "# adr2geo(\"北海道北２条西４丁目１番地札幌三井ＪＰビルディング\")\n",
    "get_lat_lon_from_address([\"北海道北２条西４丁目１番地札幌三井ＪＰビルディング\"])"
   ]
  },
  {
   "cell_type": "code",
   "execution_count": 58,
   "metadata": {},
   "outputs": [],
   "source": [
    "addr_list=df[\"full住所\"].tolist()"
   ]
  },
  {
   "cell_type": "code",
   "execution_count": 59,
   "metadata": {},
   "outputs": [],
   "source": [
    "# lat_lon_list=get_lat_lon_from_address(addr_list)"
   ]
  },
  {
   "cell_type": "code",
   "execution_count": 64,
   "metadata": {},
   "outputs": [
    {
     "output_type": "stream",
     "name": "stdout",
     "text": [
      "connectiong to remote browser...\n",
      "https://www.wellhat.co.jp/tools/googlemap.html\n"
     ]
    }
   ],
   "source": [
    "import chromedriver_binary # nopa\n",
    "from selenium import webdriver\n",
    "\n",
    "# WebDriver のオプションを設定する\n",
    "options = webdriver.ChromeOptions()\n",
    "# options.add_argument('--headless')\n",
    "\n",
    "print('connectiong to remote browser...')\n",
    "driver = webdriver.Chrome(options=options)\n",
    "\n",
    "driver.get('https://www.wellhat.co.jp/tools/googlemap.html')\n",
    "print(driver.current_url)\n",
    "\n",
    "# ブラウザを終了する\n",
    "# driver.quit()"
   ]
  },
  {
   "cell_type": "code",
   "execution_count": 70,
   "metadata": {},
   "outputs": [
    {
     "output_type": "stream",
     "name": "stdout",
     "text": [
      "43.0638731 141.3503822\n"
     ]
    }
   ],
   "source": [
    "ele=driver.find_element_by_xpath(r\"/html/body/div[2]/div/div[3]/div/div/div/div/div/fieldset[1]/form/input[1]\")\n",
    "ele.clear()\n",
    "ele.send_keys(\"北海道北２条西４丁目１番地札幌三井ＪＰビルディング\")\n",
    "ele=driver.find_element_by_xpath(\"/html/body/div[2]/div/div[3]/div/div/div/div/div/fieldset[2]/form/input[1]\")\n",
    "ele.click()\n",
    "lat=driver.find_element_by_xpath(\"/html/body/div[2]/div/div[3]/div/div/div/div/div/fieldset[2]/form/input[1]\").get_attribute(\"value\")\n",
    "lon=driver.find_element_by_xpath(\"/html/body/div[2]/div/div[3]/div/div/div/div/div/fieldset[2]/form/input[2]\").get_attribute(\"value\")\n",
    "print(lat,lon)"
   ]
  },
  {
   "cell_type": "code",
   "execution_count": 74,
   "metadata": {},
   "outputs": [],
   "source": [
    "def get_lat_lon(addr):\n",
    "    ele=driver.find_element_by_xpath(r\"/html/body/div[2]/div/div[3]/div/div/div/div/div/fieldset[1]/form/input[1]\")\n",
    "    ele.clear()\n",
    "    ele.send_keys(\"北海道北２条西４丁目１番地札幌三井ＪＰビルディング\")\n",
    "    ele=driver.find_element_by_xpath(\"/html/body/div[2]/div/div[3]/div/div/div/div/div/fieldset[2]/form/input[1]\")\n",
    "    ele.click()\n",
    "    time.sleep(2)\n",
    "    lat=driver.find_element_by_xpath(\"/html/body/div[2]/div/div[3]/div/div/div/div/div/fieldset[2]/form/input[1]\").get_attribute(\"value\")\n",
    "    lon=driver.find_element_by_xpath(\"/html/body/div[2]/div/div[3]/div/div/div/div/div/fieldset[2]/form/input[2]\").get_attribute(\"value\")\n",
    "    # print(lat,lon)\n",
    "    # time.sleep(1)\n",
    "    return lat,lon\n",
    "def get_from_addr_list(addrlist):\n",
    "    ans=[]\n",
    "    ans2=[]\n",
    "    for ad in tqdm(addr_list):\n",
    "        try:\n",
    "            lat,lon=get_lat_lon_from_address(ad)\n",
    "        except:\n",
    "            lat=lon=None\n",
    "        ans.append(lat)\n",
    "        ans2.append(lon)\n"
   ]
  },
  {
   "cell_type": "code",
   "execution_count": 72,
   "metadata": {},
   "outputs": [
    {
     "output_type": "stream",
     "name": "stderr",
     "text": [
      "  0%|          | 0/22366 [00:00<?, ?it/s]\n",
      "  0%|          | 0/25 [00:00<?, ?it/s]\u001b[A\n",
      "  8%|▊         | 2/25 [00:00<00:09,  2.55it/s]\u001b[A\n",
      " 12%|█▏        | 3/25 [00:00<00:06,  3.25it/s]\u001b[A\n",
      " 24%|██▍       | 6/25 [00:01<00:04,  4.39it/s]\u001b[A\n",
      " 36%|███▌      | 9/25 [00:01<00:02,  5.83it/s]\u001b[A\n",
      " 48%|████▊     | 12/25 [00:01<00:01,  7.58it/s]\u001b[A\n",
      " 60%|██████    | 15/25 [00:01<00:01,  9.63it/s]\u001b[A\n",
      " 72%|███████▏  | 18/25 [00:01<00:00, 11.78it/s]\u001b[A\n",
      " 84%|████████▍ | 21/25 [00:01<00:00, 14.07it/s]\u001b[A\n",
      "100%|██████████| 25/25 [00:01<00:00, 14.11it/s]\n",
      "  0%|          | 0/22366 [00:01<?, ?it/s]\n"
     ]
    },
    {
     "output_type": "error",
     "ename": "ValueError",
     "evalue": "too many values to unpack (expected 2)",
     "traceback": [
      "\u001b[1;31m---------------------------------------------------------------------------\u001b[0m",
      "\u001b[1;31mValueError\u001b[0m                                Traceback (most recent call last)",
      "\u001b[1;32m<ipython-input-72-dafa955a8cd7>\u001b[0m in \u001b[0;36m<module>\u001b[1;34m\u001b[0m\n\u001b[1;32m----> 1\u001b[1;33m \u001b[0mget_from_addr_list\u001b[0m\u001b[1;33m(\u001b[0m\u001b[0maddr_list\u001b[0m\u001b[1;33m)\u001b[0m\u001b[1;33m\u001b[0m\u001b[1;33m\u001b[0m\u001b[0m\n\u001b[0m",
      "\u001b[1;32m<ipython-input-71-7e3099cbe3f9>\u001b[0m in \u001b[0;36mget_from_addr_list\u001b[1;34m(addrlist)\u001b[0m\n\u001b[0;32m     14\u001b[0m     \u001b[0mans2\u001b[0m\u001b[1;33m=\u001b[0m\u001b[1;33m[\u001b[0m\u001b[1;33m]\u001b[0m\u001b[1;33m\u001b[0m\u001b[1;33m\u001b[0m\u001b[0m\n\u001b[0;32m     15\u001b[0m     \u001b[1;32mfor\u001b[0m \u001b[0mad\u001b[0m \u001b[1;32min\u001b[0m \u001b[0mtqdm\u001b[0m\u001b[1;33m(\u001b[0m\u001b[0maddr_list\u001b[0m\u001b[1;33m)\u001b[0m\u001b[1;33m:\u001b[0m\u001b[1;33m\u001b[0m\u001b[1;33m\u001b[0m\u001b[0m\n\u001b[1;32m---> 16\u001b[1;33m         \u001b[0mlat\u001b[0m\u001b[1;33m,\u001b[0m\u001b[0mlon\u001b[0m\u001b[1;33m=\u001b[0m\u001b[0mget_lat_lon_from_address\u001b[0m\u001b[1;33m(\u001b[0m\u001b[0mad\u001b[0m\u001b[1;33m)\u001b[0m\u001b[1;33m\u001b[0m\u001b[1;33m\u001b[0m\u001b[0m\n\u001b[0m\u001b[0;32m     17\u001b[0m         \u001b[0mans\u001b[0m\u001b[1;33m.\u001b[0m\u001b[0mappend\u001b[0m\u001b[1;33m(\u001b[0m\u001b[0mlat\u001b[0m\u001b[1;33m)\u001b[0m\u001b[1;33m\u001b[0m\u001b[1;33m\u001b[0m\u001b[0m\n\u001b[0;32m     18\u001b[0m         \u001b[0mans2\u001b[0m\u001b[1;33m.\u001b[0m\u001b[0mappend\u001b[0m\u001b[1;33m(\u001b[0m\u001b[0mlon\u001b[0m\u001b[1;33m)\u001b[0m\u001b[1;33m\u001b[0m\u001b[1;33m\u001b[0m\u001b[0m\n",
      "\u001b[1;31mValueError\u001b[0m: too many values to unpack (expected 2)"
     ]
    }
   ],
   "source": [
    "get_from_addr_list(addr_list)"
   ]
  },
  {
   "cell_type": "code",
   "execution_count": null,
   "metadata": {},
   "outputs": [],
   "source": []
  }
 ]
}